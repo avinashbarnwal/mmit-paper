{
 "cells": [
  {
   "cell_type": "code",
   "execution_count": null,
   "metadata": {
    "collapsed": true
   },
   "outputs": [],
   "source": [
    "%matplotlib inline\n",
    "from __future__ import absolute_import, division, print_function, unicode_literals\n",
    "from builtins import range\n",
    "\n",
    "import matplotlib.pyplot as plt\n",
    "import numpy as np\n",
    "import pandas as pd\n",
    "import seaborn as sns; sns.set_style(\"white\")\n",
    "\n",
    "from functools import partial\n",
    "from joblib import delayed, Parallel\n",
    "from mmit import MaxMarginIntervalTree\n",
    "from mmit.core.solver import compute_optimal_costs\n",
    "from mmit.metrics import mean_squared_error, zero_one_loss\n",
    "from mmit.model import TreeExporter\n",
    "from mmit.model_selection import GridSearchCV\n",
    "from os import listdir, mkdir, system\n",
    "from os.path import abspath, basename, exists, join\n",
    "from shutil import rmtree as rmdir\n",
    "from time import time"
   ]
  },
  {
   "cell_type": "code",
   "execution_count": null,
   "metadata": {
    "collapsed": false
   },
   "outputs": [],
   "source": [
    "class Dataset(object):\n",
    "    def __init__(self, path):\n",
    "        self.path = path\n",
    "        feature_data = pd.read_csv(join(path, \"features.csv\"))\n",
    "        self.X = feature_data.values\n",
    "        self.feature_names = feature_data.columns.values\n",
    "        del feature_data\n",
    "        self.y = pd.read_csv(join(path, \"targets.csv\")).values\n",
    "        self.folds = pd.read_csv(join(path, \"folds.csv\")).values.reshape(-1, )\n",
    "        self.name = basename(path)\n",
    "    \n",
    "    @property\n",
    "    def n_examples(self):\n",
    "        return self.X.shape[0]\n",
    "    \n",
    "    @property\n",
    "    def n_features(self):\n",
    "        return self.X.shape[1]\n",
    "    \n",
    "def find_datasets(path):\n",
    "    for d in listdir(path):\n",
    "        if exists(join(path, d, \"features.csv\")) and \\\n",
    "           exists(join(path, d, \"targets.csv\")) and \\\n",
    "           exists(join(path, d, \"folds.csv\")):\n",
    "            yield Dataset(abspath(join(path, d)))\n",
    "\n",
    "datasets = list(find_datasets(\"./data\"))"
   ]
  },
  {
   "cell_type": "code",
   "execution_count": null,
   "metadata": {
    "collapsed": false
   },
   "outputs": [],
   "source": [
    "def evaluate_on_dataset(d, metric, result_dir):\n",
    "    start_time = time()\n",
    "    \n",
    "    ds_result_dir = join(result_dir, d.name)\n",
    "    if not exists(ds_result_dir):\n",
    "        mkdir(ds_result_dir)\n",
    "    \n",
    "    fold_models = []\n",
    "    fold_predictions = np.zeros(d.n_examples)\n",
    "    for fold in np.unique(d.folds):\n",
    "        fold_train = d.folds != fold\n",
    "        \n",
    "        X_train = d.X[fold_train]\n",
    "        y_train = d.y[fold_train]\n",
    "        X_test = d.X[~fold_train]\n",
    "        y_test = d.y[~fold_train]\n",
    "        \n",
    "        cv = GridSearchCV(estimator=MaxMarginIntervalTree(), param_grid=params, cv=10, n_jobs=-1, \n",
    "                          scoring=metric)\n",
    "        cv.fit(X_train, y_train, d.feature_names)\n",
    "        fold_predictions[~fold_train] = cv.predict(X_test)\n",
    "        fold_models.append(cv.best_estimator_)\n",
    "    print(\"MSE:\", mean_squared_error(d.y, fold_predictions))\n",
    "    print(\"ACC:\", 1.0 - zero_one_loss(d.y, fold_predictions))\n",
    "    open(join(ds_result_dir, \"predictions.csv\"), \"w\").write(\"\\n\".join(str(x) for x in fold_predictions))\n",
    "    \n",
    "    latex_exporter = TreeExporter(\"latex\")\n",
    "    string_exporter = TreeExporter(\"string\")\n",
    "    f_models = open(join(ds_result_dir, \"models.tsv\"), \"w\")\n",
    "    for i, m in enumerate(fold_models):\n",
    "        open(join(ds_result_dir, \"model_fold_{0:d}.tex\".format(i + 1)), \"w\").write(latex_exporter(m))\n",
    "        f_models.write(\"{0:d}\\t{1!s}\\n\".format((i + 1), string_exporter(m)))\n",
    "    f_models.close()\n",
    "    print(\"Took\", time() - start_time, \"seconds.\")\n",
    "    \n",
    "    # Generate the PDF file for each tree\n",
    "    build_cmd = \"cd {0!s}; for i in ./model_fold_*.tex; do lualatex $i > /dev/null; rm ./*.aux ./*.log;done\".format(ds_result_dir)\n",
    "    !$build_cmd"
   ]
  },
  {
   "cell_type": "code",
   "execution_count": null,
   "metadata": {
    "collapsed": false
   },
   "outputs": [],
   "source": [
    "params = {\"max_depth\": [1000],\n",
    "          \"min_samples_split\": [0],\n",
    "          \"margin\": np.logspace(-3, 0, 20)}\n",
    "\n",
    "def prep_result_dir(result_dir):\n",
    "    if exists(result_dir):\n",
    "       rmdir(result_dir)\n",
    "    mkdir(result_dir)\n",
    "\n",
    "def mse_metric(estimator, X, y):\n",
    "    \"\"\"\n",
    "    Negative mean squared error, since GridSearchCV maximizes a metric\n",
    "    \"\"\"\n",
    "    return -mean_squared_error(y_pred=estimator.predict(X), y_true=y)\n",
    "\n",
    "params[\"loss\"] = [\"hinge\"]\n",
    "result_dir = \"./predictions/mmit.linear.hinge\"\n",
    "prep_result_dir(result_dir)\n",
    "for d in datasets:\n",
    "    print(d.name)\n",
    "    evaluate_on_dataset(d, mse_metric, result_dir)\n",
    "    print()\n",
    "    \n",
    "params[\"loss\"] = [\"squared_hinge\"]\n",
    "result_dir = \"./predictions/mmit.squared.hinge\"\n",
    "prep_result_dir(result_dir)\n",
    "for d in datasets:\n",
    "    print(d.name)\n",
    "    evaluate_on_dataset(d, mse_metric, result_dir)\n",
    "    print()"
   ]
  }
 ],
 "metadata": {
  "kernelspec": {
   "display_name": "Python 2",
   "language": "python",
   "name": "python2"
  },
  "language_info": {
   "codemirror_mode": {
    "name": "ipython",
    "version": 2
   },
   "file_extension": ".py",
   "mimetype": "text/x-python",
   "name": "python",
   "nbconvert_exporter": "python",
   "pygments_lexer": "ipython2",
   "version": "2.7.11"
  }
 },
 "nbformat": 4,
 "nbformat_minor": 0
}
