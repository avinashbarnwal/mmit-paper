{
 "cells": [
  {
   "cell_type": "code",
   "execution_count": 22,
   "metadata": {
    "collapsed": false
   },
   "outputs": [
    {
     "data": {
      "image/png": "[encoded data removed]",
      "text/plain": [
       "<matplotlib.figure.Figure at 0x10c187d90>"
      ]
     },
     "metadata": {},
     "output_type": "display_data"
    }
   ],
   "source": [
    "%matplotlib inline\n",
    "import matplotlib\n",
    "import matplotlib.pyplot as plt\n",
    "import numpy as np\n",
    "import seaborn as sns\n",
    "from numpy import infty as inf\n",
    "from matplotlib.lines import Line2D\n",
    "from matplotlib import rc\n",
    "rc('text', usetex=True)\n",
    "\n",
    "\n",
    "def plot_slack(x, y, mu, epsilon, is_lower, zorder):\n",
    "    slack_color = \"red\"\n",
    "    if not is_lower and y < mu + epsilon:\n",
    "        plt.vlines(x, ymin=y, ymax=mu + epsilon, color=slack_color, linewidth=3, zorder=zorder, label=\"Slack\")\n",
    "    elif is_lower and y > mu - epsilon:\n",
    "        plt.vlines(x, ymin=y, ymax=mu - epsilon, color=slack_color, linewidth=3, zorder=zorder, label=\"Slack\")\n",
    "\n",
    "        \n",
    "def plot_bound(x, y, is_lower, zorder):\n",
    "    lower_style = dict(s=50, facecolors='white', edgecolors='black', linewidth=2)\n",
    "    upper_style = dict(s=50, facecolors='black', edgecolors='black', linewidth=2)\n",
    "    plt.scatter(x, y, zorder=zorder, \n",
    "                label=r\"Lower bound ($\\underline{y_i}$)\" if is_lower else r\"Upper bound ($\\overline{y_i}$)\", \n",
    "                **(lower_style if is_lower else upper_style))\n",
    "        \n",
    "\n",
    "def plot_leaf_intervals(leaf_x, leaf_y, mu):\n",
    "    for i in range(len(leaf_y)):\n",
    "        if not np.isinf(leaf_y[i][0]):\n",
    "            plot_slack(leaf_x[i], leaf_y[i][0], mu, epsilon, True, zorder[\"slack\"])\n",
    "            plot_bound(leaf_x[i], leaf_y[i][0], True, zorder[\"points\"])      \n",
    "        if not np.isinf(leaf_y[i][1]):\n",
    "            plot_slack(leaf_x[i], leaf_y[i][1], mu, epsilon, False, zorder[\"slack\"])\n",
    "            plot_bound(leaf_x[i], leaf_y[i][1], False, zorder[\"points\"])\n",
    "        plt.vlines(leaf_x[i], ymin=max(leaf_y[i][0], -99999), ymax=min(leaf_y[i][1], 99999), linestyles=\"-.\", alpha=0.3)\n",
    "    \n",
    "    \n",
    "def plot_separator(mu, epsilon, x_start, x_end, zorder, is_left_leaf):\n",
    "    margin_color = \"blue\"\n",
    "    separator_color = \"green\"\n",
    "    padding = 0.5\n",
    "    if is_left_leaf:\n",
    "        plt.hlines(y=mu, xmin=x_start - 5 * padding, xmax=x_end + padding, color=separator_color, linestyle=\"-\", zorder=zorder, label=r\"Prediction ($\\mu_L$, $\\mu_R$)\")\n",
    "        plt.text(x=x_start - padding * 1.5, y=mu + 0.2, s=r\"$\\mu_L$\", zorder=zorder)\n",
    "                 #bbox=dict(facecolor='white', edgecolor='black', boxstyle='round'))\n",
    "        plt.hlines(y=mu - epsilon, xmin=x_start - 5 * padding, xmax=x_end + padding, color=margin_color, linestyle=\"--\", zorder=zorder, label=r\"Margin ($\\epsilon$)\")\n",
    "        plt.hlines(y=mu + epsilon, xmin=x_start - 5 * padding, xmax=x_end + padding, color=margin_color, linestyle=\"--\", zorder=zorder)\n",
    "        plt.arrow(x_start - padding * 0.8, mu, 0, epsilon - 0.2, head_width=0.1, head_length=0.2, fc='k', ec='k', zorder=zorder)\n",
    "        plt.arrow(x_start - padding * 0.8, mu, 0, -epsilon + 0.2, head_width=0.1, head_length=0.2, fc='k', ec='k', zorder=zorder)\n",
    "        plt.text(x_start - padding * 0.7, mu + 0.35 * epsilon, s=r\"$\\epsilon$\", zorder=zorder)\n",
    "        plt.text(x_start - padding * 0.7, mu - 0.5 * epsilon, s=r\"$\\epsilon$\", zorder=zorder)\n",
    "    else:\n",
    "        plt.hlines(y=mu, xmin=x_start - padding, xmax=x_end + 5.0 * padding, color=separator_color, linestyle=\"-\", zorder=zorder, label=r\"Prediction ($\\mu_L$, $\\mu_R$)\")\n",
    "        plt.text(x=x_end + padding * 1.0, y=mu + 0.2, s=r\"$\\mu_R$\", zorder=zorder)\n",
    "        plt.hlines(y=mu - epsilon, xmin=x_start - padding, xmax=x_end + 5.0 * padding, color=margin_color, linestyle=\"--\", zorder=zorder, label=r\"Margin ($\\epsilon$)\")\n",
    "        plt.hlines(y=mu + epsilon, xmin=x_start - padding, xmax=x_end + 5.0 * padding, color=margin_color, linestyle=\"--\", zorder=zorder)\n",
    "        plt.arrow(x_end + padding * 0.8, mu, 0, epsilon - 0.2, head_width=0.1, head_length=0.2, fc='k', ec='k', zorder=zorder)\n",
    "        plt.arrow(x_end + padding * 0.8, mu, 0, -epsilon + 0.2, head_width=0.1, head_length=0.2, fc='k', ec='k', zorder=zorder)\n",
    "        plt.text(x_end + padding * 0.5, mu + 0.35 * epsilon, s=r\"$\\epsilon$\", zorder=zorder)\n",
    "        plt.text(x_end + padding * 0.5, mu - 0.5 * epsilon, s=r\"$\\epsilon$\", zorder=zorder)\n",
    "    \n",
    "    \n",
    "def plot_split(threshold, zorder):\n",
    "    plt.text(1.75, 5, r\"Leaf: $x_{ij} \\leq t$\", bbox=dict(facecolor='white', edgecolor='black', boxstyle='round', pad=1.5))\n",
    "    plt.text(6.15, -2.5, r\"Leaf: $x_{ij} > t$\", bbox=dict(facecolor='white', edgecolor='black', boxstyle='round', pad=1.5))\n",
    "    plt.axvline(threshold, linewidth=5, color=\"orange\", label=r\"Threshold ($t$)\", zorder=zorder)\n",
    "    \n",
    "    \n",
    "def make_legend():\n",
    "    font_properties = {}  #{'size': 12, 'style': 'normal'}\n",
    "    handles, labels = plt.gca().get_legend_handles_labels()\n",
    "    filtered_legend = {l: h for h, l in zip(handles, labels)}\n",
    "    \n",
    "    legend_keys = [r\"Upper bound ($\\overline{y_i}$)\", r\"Lower bound ($\\underline{y_i}$)\", r\"Threshold ($t$)\", r\"Prediction ($\\mu_L$, $\\mu_R$)\", r\"Margin ($\\epsilon$)\", r\"Slack\"]\n",
    "    plt.legend([filtered_legend[k] for k in legend_keys], legend_keys, ncol=3,\n",
    "               bbox_to_anchor=(0.82, 1.01), bbox_transform=plt.gcf().transFigure, prop=font_properties)\n",
    "    \n",
    "    \n",
    "if __name__ == \"__main__\":  \n",
    "    plt.clf()\n",
    "    \n",
    "    # Figure data\n",
    "    y = [(-3, 3), (-4, -2), (-inf, 1), (-1, 2), (1, 4), (2.75, inf), (1.75, 5), (1.0, 5.0)]\n",
    "    x = [1, 2, 3, 4, 5, 6, 7, 8]\n",
    "    mu_1 = 0.0\n",
    "    mu_2 = 3.0\n",
    "    epsilon = 1.0\n",
    "    split_threshold = 4.5\n",
    "      \n",
    "    # Figure appearance\n",
    "    zorder = {\"points\": 3,\n",
    "              \"separator\": 1,\n",
    "              \"slack\": 2,\n",
    "              \"split\": 1}  # Order of parts on the z axis\n",
    "    sns.set_style(\"white\")\n",
    "    plt.gcf().set_size_inches(8, 5)\n",
    "    plt.xlim([0.2, 8.8])\n",
    "    plt.ylim(-4.3, 7)\n",
    "    plt.xlabel(r\"Feature value ($x_{ij}$)\")\n",
    "    plt.ylabel(r\"Interval bounds\")\n",
    "    plt.setp(plt.gca().get_xticklabels(), visible=False)\n",
    "    plt.setp(plt.gca().get_yticklabels(), visible=False)\n",
    "    \n",
    "    # Plot separator and margin\n",
    "    plot_separator(mu_1, epsilon, 1, 4, zorder[\"separator\"], True)\n",
    "    plot_separator(mu_2, epsilon, 5, 8, zorder[\"separator\"], False)\n",
    "    plot_split(split_threshold, zorder[\"split\"])\n",
    "    \n",
    "    # Plot leaf intervals\n",
    "    plot_leaf_intervals(x[:4], y[:4], mu_1)\n",
    "    plot_leaf_intervals(x[4:], y[4:], mu_2)\n",
    "    \n",
    "    # Plot the legend\n",
    "    make_legend()\n",
    "    \n",
    "    # Save to file\n",
    "    plt.savefig(\"split_leaf_cost.pdf\")\n",
    "    "
   ]
  },
  {
   "cell_type": "code",
   "execution_count": null,
   "metadata": {
    "collapsed": true
   },
   "outputs": [],
   "source": []
  },
  {
   "cell_type": "code",
   "execution_count": null,
   "metadata": {
    "collapsed": true
   },
   "outputs": [],
   "source": []
  },
  {
   "cell_type": "code",
   "execution_count": null,
   "metadata": {
    "collapsed": true
   },
   "outputs": [],
   "source": []
  }
 ],
 "metadata": {
  "kernelspec": {
   "display_name": "Python 2",
   "language": "python",
   "name": "python2"
  },
  "language_info": {
   "codemirror_mode": {
    "name": "ipython",
    "version": 2
   },
   "file_extension": ".py",
   "mimetype": "text/x-python",
   "name": "python",
   "nbconvert_exporter": "python",
   "pygments_lexer": "ipython2",
   "version": "2.7.11"
  }
 },
 "nbformat": 4,
 "nbformat_minor": 0
}
